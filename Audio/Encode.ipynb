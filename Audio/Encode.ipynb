{
  "nbformat": 4,
  "nbformat_minor": 0,
  "metadata": {
    "colab": {
      "name": "Encode.ipynb",
      "provenance": [],
      "mount_file_id": "1YT1pp00ZO44DOD30D5HJzzAWrfkZepze",
      "authorship_tag": "ABX9TyMdOqehedoOkAWB2IxIHuAs",
      "include_colab_link": true
    },
    "kernelspec": {
      "name": "python3",
      "display_name": "Python 3"
    }
  },
  "cells": [
    {
      "cell_type": "markdown",
      "metadata": {
        "id": "view-in-github",
        "colab_type": "text"
      },
      "source": [
        "<a href=\"https://colab.research.google.com/github/AbdelrahmanElsherif/NeuralNetwork-Based-Generic-Compression/blob/master/Audio/Encode.ipynb\" target=\"_parent\"><img src=\"https://colab.research.google.com/assets/colab-badge.svg\" alt=\"Open In Colab\"/></a>"
      ]
    },
    {
      "cell_type": "code",
      "metadata": {
        "id": "Nm1C_hMHL5hB",
        "colab_type": "code",
        "outputId": "95128cfc-dbce-4c27-de84-0a49b29eec8b",
        "colab": {
          "base_uri": "https://localhost:8080/",
          "height": 35
        }
      },
      "source": [
        "%cd ./drive/My Drive/audio_compression"
      ],
      "execution_count": 0,
      "outputs": [
        {
          "output_type": "stream",
          "text": [
            "/content/drive/My Drive/audio_compression\n"
          ],
          "name": "stdout"
        }
      ]
    },
    {
      "cell_type": "code",
      "metadata": {
        "id": "xPFHk1-QM-xL",
        "colab_type": "code",
        "outputId": "6834e6ee-c712-422b-8d32-fcfe81b8e2c4",
        "colab": {
          "base_uri": "https://localhost:8080/",
          "height": 512
        }
      },
      "source": [
        "!pip install noisereduce"
      ],
      "execution_count": 0,
      "outputs": [
        {
          "output_type": "stream",
          "text": [
            "Collecting noisereduce\n",
            "  Downloading https://files.pythonhosted.org/packages/04/d0/4e50cac3daaa1522a3730ec22750ca86f6c221a480e65c8d6b0ab18a21ed/noisereduce-1.1.0.tar.gz\n",
            "Requirement already satisfied: scipy in /usr/local/lib/python3.6/dist-packages (from noisereduce) (1.4.1)\n",
            "Requirement already satisfied: matplotlib in /usr/local/lib/python3.6/dist-packages (from noisereduce) (3.2.1)\n",
            "Requirement already satisfied: librosa in /usr/local/lib/python3.6/dist-packages (from noisereduce) (0.6.3)\n",
            "Requirement already satisfied: numpy in /usr/local/lib/python3.6/dist-packages (from noisereduce) (1.18.2)\n",
            "Requirement already satisfied: tqdm in /usr/local/lib/python3.6/dist-packages (from noisereduce) (4.38.0)\n",
            "Requirement already satisfied: kiwisolver>=1.0.1 in /usr/local/lib/python3.6/dist-packages (from matplotlib->noisereduce) (1.2.0)\n",
            "Requirement already satisfied: python-dateutil>=2.1 in /usr/local/lib/python3.6/dist-packages (from matplotlib->noisereduce) (2.8.1)\n",
            "Requirement already satisfied: pyparsing!=2.0.4,!=2.1.2,!=2.1.6,>=2.0.1 in /usr/local/lib/python3.6/dist-packages (from matplotlib->noisereduce) (2.4.7)\n",
            "Requirement already satisfied: cycler>=0.10 in /usr/local/lib/python3.6/dist-packages (from matplotlib->noisereduce) (0.10.0)\n",
            "Requirement already satisfied: joblib>=0.12 in /usr/local/lib/python3.6/dist-packages (from librosa->noisereduce) (0.14.1)\n",
            "Requirement already satisfied: scikit-learn!=0.19.0,>=0.14.0 in /usr/local/lib/python3.6/dist-packages (from librosa->noisereduce) (0.22.2.post1)\n",
            "Requirement already satisfied: audioread>=2.0.0 in /usr/local/lib/python3.6/dist-packages (from librosa->noisereduce) (2.1.8)\n",
            "Requirement already satisfied: decorator>=3.0.0 in /usr/local/lib/python3.6/dist-packages (from librosa->noisereduce) (4.4.2)\n",
            "Requirement already satisfied: resampy>=0.2.0 in /usr/local/lib/python3.6/dist-packages (from librosa->noisereduce) (0.2.2)\n",
            "Requirement already satisfied: numba>=0.38.0 in /usr/local/lib/python3.6/dist-packages (from librosa->noisereduce) (0.48.0)\n",
            "Requirement already satisfied: six>=1.3 in /usr/local/lib/python3.6/dist-packages (from librosa->noisereduce) (1.12.0)\n",
            "Requirement already satisfied: llvmlite<0.32.0,>=0.31.0dev0 in /usr/local/lib/python3.6/dist-packages (from numba>=0.38.0->librosa->noisereduce) (0.31.0)\n",
            "Requirement already satisfied: setuptools in /usr/local/lib/python3.6/dist-packages (from numba>=0.38.0->librosa->noisereduce) (46.1.3)\n",
            "Building wheels for collected packages: noisereduce\n",
            "  Building wheel for noisereduce (setup.py) ... \u001b[?25l\u001b[?25hdone\n",
            "  Created wheel for noisereduce: filename=noisereduce-1.1.0-cp36-none-any.whl size=7608 sha256=aba77b361c618843165dfa0b4b1571c806b286e59da783ddcf9eaf6b1c8f6d17\n",
            "  Stored in directory: /root/.cache/pip/wheels/a6/2c/70/f9ccb41280dcfbe3eaeb7930f913dd85394617f3d3136f29cc\n",
            "Successfully built noisereduce\n",
            "Installing collected packages: noisereduce\n",
            "Successfully installed noisereduce-1.1.0\n"
          ],
          "name": "stdout"
        }
      ]
    },
    {
      "cell_type": "code",
      "metadata": {
        "id": "xNGAsjuyKKwj",
        "colab_type": "code",
        "colab": {}
      },
      "source": [
        "import wave, struct\n",
        "import keras\n",
        "import tensorflow as tf\n",
        "import argparse\n",
        "import noisereduce as nr\n",
        "import numpy as np\n",
        "\n",
        "\n",
        "def dataFromWave(fname):\n",
        "    \"\"\"\n",
        "    Reads a wav file to samples\n",
        "    \"\"\"\n",
        "    f = wave.open(fname, 'rb')\n",
        "    # Read Channel Number\n",
        "    chans = f.getnchannels()\n",
        "    # Get raw sample count\n",
        "    samps = f.getnframes()\n",
        "    # Get bit-width of samples\n",
        "    sampwidth = f.getsampwidth()\n",
        "    # Get sampling rate\n",
        "    rate = f.getframerate()\n",
        "    # Read samples\n",
        "    if sampwidth == 3:  # have to read this one sample at a time\n",
        "        s = ''\n",
        "        for k in range(samps):\n",
        "            fr = f.readframes(1)\n",
        "            for c in range(0, 3 * chans, 3):\n",
        "                s += '\\0' + fr[c:(c + 3)]  # put TRAILING 0 to make 32-bit (file is little-endian)\n",
        "    else:\n",
        "        s = f.readframes(samps)\n",
        "    f.close()\n",
        "    # Unpack samples\n",
        "    unpstr = '<{0}{1}'.format(samps * chans, {1: 'b', 2: 'h', 3: 'i', 4: 'i', 8: 'q'}[sampwidth])\n",
        "    x = list(struct.unpack(unpstr, s))\n",
        "    if sampwidth == 3:\n",
        "        x = [k >> 8 for k in x]  # downshift to get +/- 2^24 with sign extension\n",
        "\n",
        "    return x, chans, samps, sampwidth, rate\n",
        "\n",
        "\n",
        "def dataToWave(fname, data, chans, samps, sampwidth, rate):\n",
        "    \"\"\"\n",
        "    Writes samples to a wav file\n",
        "    \"\"\"\n",
        "    obj = wave.open(fname, 'wb')\n",
        "    # Set parameters\n",
        "    obj.setnchannels(chans)\n",
        "    obj.setsampwidth(sampwidth)\n",
        "    obj.setframerate(rate)\n",
        "    # set up the packaging format\n",
        "    packstr = \"<{0}\".format({1: 'b', 2: 'h', 3: 'i', 4: 'i', 8: 'q'}[sampwidth])\n",
        "    # Package the samples\n",
        "    for i in range(samps * chans):\n",
        "        obj.writeframesraw(struct.pack(packstr, data[i]))\n",
        "    obj.close()\n",
        "\n",
        "\n",
        "def norm(x):\n",
        "    \"\"\"\n",
        "    NN output isn't quite perfect, make sure it's bounded\n",
        "    \"\"\"\n",
        "    # If we're outside allowable wav value, bound them\n",
        "    if x < -32768:\n",
        "        return -32768\n",
        "    if x > 32767:\n",
        "        return 32767\n",
        "    return x\n",
        "\n",
        "\n",
        "def encode(in_file, out_file):\n",
        "    \"\"\"\n",
        "    Takes in a file path to read (a wav file)\n",
        "    and a file path to write the encoded file to\n",
        "    \"\"\"\n",
        "    autoencoder = keras.models.load_model(\"autoencoder6.model\")\n",
        "    in_layer = keras.layers.Input(shape=(1, 441))\n",
        "    encode = autoencoder.layers[1](in_layer)\n",
        "    encode = autoencoder.layers[2](encode)\n",
        "    encode = autoencoder.layers[3](encode)\n",
        "    encode = autoencoder.layers[4](encode)\n",
        "    encode = autoencoder.layers[5](encode)\n",
        "    encoder = keras.models.Model(in_layer, encode)\n",
        "    \n",
        "    # Read the file\n",
        "    data, chans, samps, width, samp_rate = dataFromWave(in_file)\n",
        "\n",
        "    # Turn the samples into a numpy array\n",
        "    data = np.array(data)\n",
        "\n",
        "    # Set our encoding frame width\n",
        "    # Experimentally determined that 1/100th of a second has decent results\n",
        "    rate = samp_rate // 100\n",
        "    print('rate = ', rate)\n",
        "    # Rescale integer samples over range [-32768,32767] to floats over range [0.0,1.0]\n",
        "    data = data.astype(float) / float(pow(2, 15))\n",
        "    data += 1.0\n",
        "    data = data / 2.0\n",
        "    print(('data.shape = ', data.shape))\n",
        "    # Pad the samples with zeroes, if needed, to make the last encoding frame full\n",
        "    n_in = len(data)\n",
        "    print('n_in = ', n_in)\n",
        "    p_size = n_in + (rate - (n_in % rate))\n",
        "    print('p_size = ', p_size)\n",
        "    padded = np.zeros((p_size,))\n",
        "    print('padded.shape = ', padded.shape)\n",
        "    padded[0:n_in] = data\n",
        "    print('padded.shape = ', padded.shape)\n",
        "\n",
        "    # Construct input layer\n",
        "    inputs = padded.reshape(len(padded)//rate, 1, rate)\n",
        "\n",
        "    # Encode the data\n",
        "    encoded = encoder.predict(inputs)\n",
        "    # Save the encoded data, as well as the important parameters\n",
        "    np.savez_compressed(out_file, data=encoded, params=np.array([chans, samps, width, samp_rate]))\n",
        "\n",
        "\n",
        "def decode(in_file, out_file):\n",
        "    \"\"\"\n",
        "    This function takes in a file prefix to a data/model file pair,\n",
        "    and decodes a wav file from them at the provided location.\n",
        "    \"\"\"\n",
        "    # Load the model\n",
        "    autoencoder = keras.models.load_model(\"autoencoder6.model\")\n",
        "    in_layer = keras.layers.Input(shape=(1, 441//16))\n",
        "    decode = autoencoder.layers[-4](in_layer)\n",
        "    decode = autoencoder.layers[-3](decode)\n",
        "    decode = autoencoder.layers[-2](decode)\n",
        "    decode = autoencoder.layers[-1](decode)\n",
        "    decoder = keras.models.Model(in_layer, decode)\n",
        "    # Load the data\n",
        "    ins = np.load(in_file + \".npz\")\n",
        "    encoded = ins['data']\n",
        "    chans = ins['params'][0]\n",
        "    samps = ins['params'][1]\n",
        "    width = ins['params'][2]\n",
        "    samp_rate = ins['params'][3]\n",
        "    # Run the decoder\n",
        "    outputs = decoder.predict(encoded)\n",
        "    print('outputs.shape=', outputs.shape)\n",
        "\n",
        "    # Build a wav file\n",
        "    out = outputs.reshape(outputs.shape[0]*outputs.shape[-1])\n",
        "    print(\"out.shape=\", out.shape)\n",
        "\n",
        "    noisy_part = out[out > 0.9]\n",
        "    out = nr.reduce_noise(audio_clip=out, noise_clip=noisy_part)\n",
        "\n",
        "    out = (((out * 2.0) - 1.0) * float(pow(2, 15))).astype(int)\n",
        "\n",
        "    out = list(map(norm, out))\n",
        "\n",
        "    dataToWave(out_file + \".wav\", out, chans, samps, width, samp_rate)"
      ],
      "execution_count": 0,
      "outputs": []
    },
    {
      "cell_type": "code",
      "metadata": {
        "id": "uQvMnwURMC3O",
        "colab_type": "code",
        "outputId": "cecdefb3-979b-46e8-a070-d6bd70582e9f",
        "colab": {
          "base_uri": "https://localhost:8080/",
          "height": 123
        }
      },
      "source": [
        "encode('audio_wav/100.wav', '100')"
      ],
      "execution_count": 0,
      "outputs": [
        {
          "output_type": "stream",
          "text": [
            "rate =  441\n",
            "('data.shape = ', (10582366,))\n",
            "n_in =  10582366\n",
            "p_size =  10582677\n",
            "padded.shape =  (10582677,)\n",
            "padded.shape =  (10582677,)\n"
          ],
          "name": "stdout"
        }
      ]
    },
    {
      "cell_type": "code",
      "metadata": {
        "id": "_kgeBdWNM5g6",
        "colab_type": "code",
        "outputId": "1565ca8f-0a74-4a21-efb0-0f38fec974ac",
        "colab": {
          "base_uri": "https://localhost:8080/",
          "height": 52
        }
      },
      "source": [
        "decode('100', 'autoencoder6')"
      ],
      "execution_count": 0,
      "outputs": [
        {
          "output_type": "stream",
          "text": [
            "outputs.shape= (23997, 1, 441)\n",
            "out.shape= (10582677,)\n"
          ],
          "name": "stdout"
        }
      ]
    },
    {
      "cell_type": "code",
      "metadata": {
        "id": "RUazcMFENYHt",
        "colab_type": "code",
        "colab": {}
      },
      "source": [
        ""
      ],
      "execution_count": 0,
      "outputs": []
    }
  ]
}